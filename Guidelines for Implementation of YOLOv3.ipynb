{
 "cells": [
  {
   "cell_type": "markdown",
   "metadata": {},
   "source": [
    "# YOLOv3 Methodology"
   ]
  },
  {
   "cell_type": "markdown",
   "metadata": {},
   "source": [
    "## Prerequisite Background"
   ]
  },
  {
   "cell_type": "markdown",
   "metadata": {},
   "source": [
    "- Neural network\n",
    "- Convolutional Neural Network (CNN)\n",
    "    - Feature detection\n",
    "- Batch Normalization\n",
    "    - higher learning rates\n",
    "    - reduces the amount by what the hidden unit values shift around (covariance shift)\n",
    "    - allows each layer of a network to learn by itself a little bit more independently of other layers\n",
    "- Residual Blocks\n",
    "    - reason: vanishing gradients and \"curse of dimensionality\"\n",
    "- skip connections\n",
    "    - also called \"identity shortcut connections\"\n",
    "    - VS Dropout\n",
    "- Upsampling\n",
    "- bounding box regression\n",
    "- IoU\n",
    "- non-maximum suppression\n",
    "- PyTorch usage"
   ]
  },
  {
   "cell_type": "markdown",
   "metadata": {},
   "source": []
  },
  {
   "cell_type": "markdown",
   "metadata": {},
   "source": []
  },
  {
   "cell_type": "code",
   "execution_count": null,
   "metadata": {},
   "outputs": [],
   "source": []
  }
 ],
 "metadata": {
  "kernelspec": {
   "display_name": "Python 3",
   "language": "python",
   "name": "python3"
  },
  "language_info": {
   "codemirror_mode": {
    "name": "ipython",
    "version": 3
   },
   "file_extension": ".py",
   "mimetype": "text/x-python",
   "name": "python",
   "nbconvert_exporter": "python",
   "pygments_lexer": "ipython3",
   "version": "3.7.4"
  }
 },
 "nbformat": 4,
 "nbformat_minor": 2
}
